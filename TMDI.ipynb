{
 "cells": [
  {
   "cell_type": "code",
   "execution_count": 3,
   "id": "2c5a9ebf",
   "metadata": {},
   "outputs": [
    {
     "name": "stdout",
     "output_type": "stream",
     "text": [
      "534780\n"
     ]
    }
   ],
   "source": [
    "import requests\n",
    "api_key = \"e226f4a5f5bace766952aa0d17182959\"\n",
    "api_link = \"https://api.themoviedb.org/3\"\n",
    "params = {'query':\"Andhadhun\", 'api_key':api_key}\n",
    "header = {'Accept': 'application/json'}\n",
    "response = requests.get(api_link + \"/search/movie\", headers = header, params=params)\n",
    "data = response.json()\n",
    "#print(data)\n",
    "results = data.get('results')\n",
    "for result in results:\n",
    "    result.get('title')=='Andhadhun'\n",
    "    print(result.get('id'))"
   ]
  },
  {
   "cell_type": "code",
   "execution_count": 13,
   "id": "400d4cab",
   "metadata": {},
   "outputs": [
    {
     "name": "stdout",
     "output_type": "stream",
     "text": [
      "{'page': 1, 'results': [{'id': 420, 'logo_path': '/hUzeosd33nzE5MCNsZxCGEKTXaQ.png', 'name': 'Marvel Studios', 'origin_country': 'US'}, {'id': 13252, 'logo_path': '/1gKwYyTDNhumwBKUlKqoxXRUdpC.png', 'name': 'Marvel Animation', 'origin_country': 'US'}], 'total_pages': 1, 'total_results': 2}\n",
      "420\n",
      "13252\n"
     ]
    }
   ],
   "source": [
    "import requests\n",
    "data={\"api_key\":\"0b047010840f921aa941f4219a254bfd\",'query':\"Marvel Studios\"}\n",
    "res=requests.get(\"https://api.themoviedb.org/3/search/company\",params=data)\n",
    "data=res.json()\n",
    "#print(data)\n",
    "results = data.get('results')\n",
    "for result in results:\n",
    "    result.get('name')=='Marvel Studios'\n",
    "    print(result.get('id'))"
   ]
  },
  {
   "cell_type": "code",
   "execution_count": 17,
   "id": "ce4c3b3d",
   "metadata": {},
   "outputs": [
    {
     "name": "stdout",
     "output_type": "stream",
     "text": [
      "2170 7.985\n"
     ]
    }
   ],
   "source": [
    "import requests\n",
    "data={\"api_key\":\"0b047010840f921aa941f4219a254bfd\",'query':\"3 Idiots\"}\n",
    "res=requests.get(\"https://api.themoviedb.org/3/search/movie\",params=data)\n",
    "data=res.json()\n",
    "a=res.json()\n",
    "\n",
    "print(a['results'][0]['vote_count'],a['results'][0]['vote_average'])"
   ]
  },
  {
   "cell_type": "code",
   "execution_count": 33,
   "id": "966bf6ca",
   "metadata": {},
   "outputs": [
    {
     "name": "stdout",
     "output_type": "stream",
     "text": [
      "https://api.themoviedb.org/3/person/976?api_key=b0a53d521764ab3bc5732e74a5cc06c9\n",
      "976\n",
      "Jason Statham - Shirebrook, Derbyshire, England, UK\n"
     ]
    }
   ],
   "source": [
    "\n",
    "import requests\n",
    "\n",
    "api_key = \"b0a53d521764ab3bc5732e74a5cc06c9\"\n",
    "api_link = \"https://api.themoviedb.org/3\"\n",
    "\n",
    "# Fetch the ID of the most popular person\n",
    "link = f\"{api_link}/person/popular\"\n",
    "params = {'api_key': api_key}\n",
    "response = requests.get(link, params=params)\n",
    "data = response.json()\n",
    "\n",
    "# Retrieve the first person's ID from the response\n",
    "id = data['results'][0]['id']\n",
    "\n",
    "# Fetch the information of the most popular person\n",
    "most_popular = f\"{api_link}/person/{id}\"\n",
    "response = requests.get(most_popular , params=params)\n",
    "data = response.json()\n",
    "print(response.url)\n",
    "\n",
    "\n",
    "# Extract and print the name and birthplace\n",
    "print(id)\n",
    "print(f\"{data['name']} - {data['place_of_birth']}\")\n",
    "   \n",
    "    \n"
   ]
  },
  {
   "cell_type": "code",
   "execution_count": 34,
   "id": "9f398c96",
   "metadata": {},
   "outputs": [
    {
     "name": "stdout",
     "output_type": "stream",
     "text": [
      "The Princess Bride\n",
      "The Bourne Identity\n",
      "The Bourne Ultimatum\n",
      "Aces Go Places\n",
      "Batman\n"
     ]
    }
   ],
   "source": [
    "import requests \n",
    "api_key = \"e226f4a5f5bace766952aa0d17182959\" \n",
    "api_link = \"https://api.themoviedb.org/3\" \n",
    "params = {'query':\"Inception\", 'api_key':api_key} \n",
    "header = {'Accept': 'application/json'} \n",
    "response = requests.get(api_link + \"/search/movie\", headers = header, params=params) \n",
    "data = response.json() \n",
    "results = data.get('results') \n",
    "for result in results: \n",
    "    if result.get('original_title') == 'Inception':\n",
    "        id = result.get('id') \n",
    "params2 = {'api_key':api_key} \n",
    "response2 = requests.get(api_link + \"/movie/\" + str(id) + \"/similar\", headers = header, params=params2) \n",
    "data2 = response2.json() \n",
    "#print(data2)\n",
    "results2 = data2.get('results') \n",
    "for result in results2[:5]: \n",
    "    print(result.get(\"title\"))"
   ]
  },
  {
   "cell_type": "code",
   "execution_count": null,
   "id": "56010517",
   "metadata": {},
   "outputs": [],
   "source": []
  }
 ],
 "metadata": {
  "kernelspec": {
   "display_name": "Python 3 (ipykernel)",
   "language": "python",
   "name": "python3"
  },
  "language_info": {
   "codemirror_mode": {
    "name": "ipython",
    "version": 3
   },
   "file_extension": ".py",
   "mimetype": "text/x-python",
   "name": "python",
   "nbconvert_exporter": "python",
   "pygments_lexer": "ipython3",
   "version": "3.10.9"
  }
 },
 "nbformat": 4,
 "nbformat_minor": 5
}
